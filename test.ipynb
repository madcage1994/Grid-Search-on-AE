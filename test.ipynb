{
 "cells": [
  {
   "cell_type": "code",
   "execution_count": null,
   "metadata": {},
   "outputs": [],
   "source": [
    "from keras.models import Model\n",
    "from keras.layers import Input\n",
    "from ae_model import encoder_vgg16, decoder1_vgg16, decoder2_vgg16, decoder3_vgg16, encoder1_vgg16\n",
    "\n",
    "input_shape = Input(shape=[256, 192, 3])\n",
    "ae = Model(input_shape, decoder1_vgg16(encoder_vgg16(input_shape)))\n",
    "ae.summary()"
   ]
  },
  {
   "cell_type": "code",
   "execution_count": 2,
   "metadata": {},
   "outputs": [
    {
     "name": "stderr",
     "output_type": "stream",
     "text": [
      "100%|██████████| 366/366 [00:00<00:00, 752.23it/s]\n"
     ]
    },
    {
     "name": "stdout",
     "output_type": "stream",
     "text": [
      "(256, 192)\n",
      "(366, 256, 192, 3)\n"
     ]
    }
   ],
   "source": [
    "import os\n",
    "import cv2\n",
    "import numpy as np\n",
    "from tqdm import tqdm\n",
    "from keras.preprocessing.image import img_to_array, load_img\n",
    "\n",
    "datasets = []\n",
    "path = './grid-search/dataset-bc/JPEGImages/'\n",
    "\n",
    "files = os.listdir(path)\n",
    "\n",
    "\n",
    "for i in tqdm(files):\n",
    "    img = load_img(path+i, target_size=(192, 256))\n",
    "    datasets.append(img_to_array(img))\n",
    "\n",
    "data_array = np.reshape(datasets, (len(datasets), 256, 192, 3))\n",
    "data_array = data_array.astype('float32') / 255.\n",
    "\n",
    "print(img.size)\n",
    "print(data_array.shape)"
   ]
  },
  {
   "cell_type": "code",
   "execution_count": null,
   "metadata": {},
   "outputs": [],
   "source": [
    "from keras.callbacks import TensorBoard\n",
    "import tensorflow as tf\n",
    "from datetime import datetime\n",
    "%load_ext tensorboard\n",
    "\n",
    "batch_size = [8, 16 ,32]\n",
    "epoch = [50, 100]\n",
    "\n",
    "for bb in batch_size:\n",
    "    for ee in epoch:\n",
    "\n",
    "        log_dir = './grid-search/logs/find_batchs_and_epochs/' + str(bb) + '_' + str(ee) + 'epochs'\n",
    "        print('logs save in:', log_dir)\n",
    "        work_text = 'Adam(Default Config)_MSE(Default Config)_Accuracy(mereics)____@ ' + str(bb) + 'batch_sizes___' + str(ee) + 'epochs!!!____@' + datetime.now().strftime(\"%Y%m%d-%H%M%S\")\n",
    "        fw =  tf.summary.create_file_writer(log_dir)\n",
    "        with fw.as_default():\n",
    "            tf.summary.text(\"config_record\", work_text, step=0)\n",
    "        ae.compile(optimizer='adam', loss='mean_squared_error', metrics=['accuracy'])\n",
    "        ae.fit(data_array, data_array, epochs=ee, batch_size=bb, shuffle=True, verbose=1, callbacks=[TensorBoard(log_dir=log_dir)])\n",
    "\n"
   ]
  },
  {
   "cell_type": "code",
   "execution_count": null,
   "metadata": {},
   "outputs": [],
   "source": []
  }
 ],
 "metadata": {
  "kernelspec": {
   "display_name": "Python 3.8.10 64-bit",
   "language": "python",
   "name": "python3"
  },
  "language_info": {
   "codemirror_mode": {
    "name": "ipython",
    "version": 3
   },
   "file_extension": ".py",
   "mimetype": "text/x-python",
   "name": "python",
   "nbconvert_exporter": "python",
   "pygments_lexer": "ipython3",
   "version": "3.8.10"
  },
  "orig_nbformat": 4,
  "vscode": {
   "interpreter": {
    "hash": "916dbcbb3f70747c44a77c7bcd40155683ae19c65e1c03b4aa3499c5328201f1"
   }
  }
 },
 "nbformat": 4,
 "nbformat_minor": 2
}
