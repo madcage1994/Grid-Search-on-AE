{
 "cells": [
  {
   "cell_type": "markdown",
   "metadata": {},
   "source": [
    "https://www.quora.com/Which-is-the-best-way-to-measure-deep-autoencoder-performance    \n",
    "\n",
    "https://stackoverflow.com/questions/48775305/what-function-defines-accuracy-in-keras-when-the-loss-is-mean-squared-error-mse\n",
    "\n",
    "https://stackoverflow.com/questions/56519500/what-does-accuracy-metrics-mean-in-keras-sample-denoising-autoencoder"
   ]
  },
  {
   "cell_type": "code",
   "execution_count": null,
   "metadata": {},
   "outputs": [],
   "source": [
    "from keras.models import Model\n",
    "from keras.layers import Input\n",
    "from ae_model import encoder_vgg16, decoder1_vgg16, decoder2_vgg16, decoder3_vgg16, encoder1_vgg16\n",
    "\n",
    "input_shape = Input(shape=[256, 192, 3])\n",
    "ae = Model(input_shape, decoder1_vgg16(encoder_vgg16(input_shape)))\n",
    "ae.summary()"
   ]
  },
  {
   "cell_type": "code",
   "execution_count": null,
   "metadata": {},
   "outputs": [],
   "source": [
    "import os\n",
    "import cv2\n",
    "import numpy as np\n",
    "from tqdm import tqdm\n",
    "from keras.preprocessing.image import img_to_array, load_img\n",
    "\n",
    "datasets = []\n",
    "path = './grid-search/dataset-bc/JPEGImages/'\n",
    "\n",
    "files = os.listdir(path)\n",
    "\n",
    "\n",
    "for i in tqdm(files):\n",
    "    img = load_img(path+i, target_size=(192, 256))\n",
    "    datasets.append(img_to_array(img))\n",
    "\n",
    "data_array = np.reshape(datasets, (len(datasets), 256, 192, 3))\n",
    "data_array = data_array.astype('float32') / 255.\n",
    "\n",
    "print(img.size)\n",
    "print(data_array.shape)"
   ]
  },
  {
   "cell_type": "code",
   "execution_count": null,
   "metadata": {},
   "outputs": [],
   "source": [
    "#split dataset\n",
    "from sklearn.model_selection import train_test_split\n",
    "\n",
    "x_train, x_test = train_test_split(data_array, test_size=0.2)\n"
   ]
  },
  {
   "cell_type": "markdown",
   "metadata": {},
   "source": [
    "### Tune the batch sizes and number of epochs   \n",
    "\n",
    "in this grid search phase, i didn't save and weights of model.     \n",
    "\n"
   ]
  },
  {
   "cell_type": "code",
   "execution_count": null,
   "metadata": {},
   "outputs": [],
   "source": [
    "from keras.callbacks import TensorBoard\n",
    "import tensorflow as tf\n",
    "from datetime import datetime\n",
    "%load_ext tensorboard\n",
    "\n",
    "\n",
    "tf.random.set_seed(7)\n",
    "\n",
    "\n",
    "# batch_size = [8, 16 ,32]\n",
    "# epoch = [50, 100]\n",
    "# first time test\n",
    "\n",
    "#sec.time test for more epochs with 32 batch sizes\n",
    "# batch_size = [32, 40] # 40 is the largest number for Blood Cell dataset and gtx 1080ti. Largger number will call out of memory.\n",
    "# epoch = [100, 200, 300]\n",
    "\n",
    "# not very well. Need test datasets  ..... \n",
    "\n",
    "# But only test 100 epochs and 200 epochs with 32 or 40 batch sizes...   \n",
    "batch_size = [32, 40]\n",
    "epoch = [100, 200]\n",
    "\n",
    "for bb in batch_size:\n",
    "    for ee in epoch:\n",
    "\n",
    "        # log_dir = './grid-search/logs/find_batchs_and_epochs/' + str(bb) + '_' + str(ee) + 'epochs'\n",
    "        log_dir = './grid-search/logs/find_batchs_and_epochs_with_tests/' + str(bb) + '_' + str(ee) + 'epochs'\n",
    "        print('logs save in:', log_dir)\n",
    "\n",
    "        work_text = str(bb) + 'batch_sizes___' + str(ee) + 'epochs'\n",
    "        work_time = datetime.now().strftime(\"%Y%m%d-%H%M%S\")\n",
    "        work_config = 'Adam(Default Config)_MSE(Default Config)_Accuracy(mereics)'\n",
    "        dataset_config = 'train:' + str(x_train.shape) + ';;; test:' + str(x_test.shape)\n",
    "        fw =  tf.summary.create_file_writer(log_dir)\n",
    "        with fw.as_default():\n",
    "            tf.summary.text(\"Test Title\", work_text, step=0)\n",
    "            tf.summary.text(\"Time\", work_time, step=0)\n",
    "            tf.summary.text(\"Config\", work_config, step=0)\n",
    "            tf.summary.text(\"Datasets_config\", dataset_config, step=0)\n",
    "\n",
    "        ae.compile(optimizer='adam', loss='mean_squared_error', metrics=['accuracy'])\n",
    "        # ae.fit(data_array, data_array, epochs=ee, batch_size=bb, shuffle=True, verbose=1, callbacks=[TensorBoard(log_dir=log_dir)])\n",
    "        ae.fit(x_train, x_train, epochs=ee, batch_size=bb, shuffle=True, verbose=1,validation_data=(x_test, x_test), callbacks=[TensorBoard(log_dir=log_dir)])\n",
    "\n"
   ]
  },
  {
   "cell_type": "markdown",
   "metadata": {},
   "source": [
    "### Test Loss function with 40batch size and 100 epochs\n",
    "\n"
   ]
  },
  {
   "cell_type": "code",
   "execution_count": null,
   "metadata": {},
   "outputs": [],
   "source": [
    "from keras.callbacks import TensorBoard\n",
    "import tensorflow as tf\n",
    "from datetime import datetime\n",
    "%load_ext tensorboard\n",
    "\n",
    "\n",
    "tf.random.set_seed(7)\n",
    "\n",
    "\n",
    "loss_func = ['mean_squared_error', 'binary_crossentropy']\n",
    "\n",
    "for ll in loss_func:\n",
    "\n",
    "    log_dir = './grid-search/logs/find_loss_function_with_tests/' + str(ll)\n",
    "    print('logs save in:', log_dir)\n",
    "\n",
    "    work_text = str(ll) + '   LOSS Function'\n",
    "    work_time = datetime.now().strftime(\"%Y%m%d-%H%M%S\")\n",
    "    work_config = '40batch_sizes /// 100epochs /// binary_accuracy /// Adam@default'\n",
    "    dataset_config = 'train:' + str(x_train.shape) + ';;; test:' + str(x_test.shape)\n",
    "    fw =  tf.summary.create_file_writer(log_dir)\n",
    "    with fw.as_default():\n",
    "        tf.summary.text(\"Test Title\", work_text, step=0)\n",
    "        tf.summary.text(\"Time\", work_time, step=0)\n",
    "        tf.summary.text(\"Config\", work_config, step=0)\n",
    "        tf.summary.text(\"Datasets_config\", dataset_config, step=0)\n",
    "\n",
    "    ae.compile(optimizer='adam', loss=ll, metrics=['accuracy'])\n",
    "    ae.fit(x_train, x_train, epochs=100, batch_size=40, shuffle=True, verbose=1,validation_data=(x_test, x_test), callbacks=[TensorBoard(log_dir=log_dir)])\n",
    "\n"
   ]
  },
  {
   "cell_type": "markdown",
   "metadata": {},
   "source": [
    "### Add loss and optimzer \n",
    "\n",
    "\n",
    "mse loss function and adam-series optimzer get lowest result..."
   ]
  },
  {
   "cell_type": "code",
   "execution_count": null,
   "metadata": {},
   "outputs": [],
   "source": [
    "from keras.callbacks import TensorBoard\n",
    "import tensorflow as tf\n",
    "from datetime import datetime\n",
    "%load_ext tensorboard\n",
    "\n",
    "\n",
    "tf.random.set_seed(7)\n",
    "\n",
    "\n",
    "# loss_func = ['mean_squared_error', 'binary_crossentropy']\n",
    "# opt = ['SGD', 'RMSprop', 'Adagrad', 'Adadelta', 'Adam', 'Adamax', 'Nadam']\n",
    "\n",
    "loss_func = ['binary_crossentropy']\n",
    "opt = ['Adadelta', 'Adam', 'Adamax', 'Nadam']\n",
    "\n",
    "for ll in loss_func:\n",
    "    for op in opt:\n",
    "\n",
    "        log_dir = './grid-search/logs/find_loss_function_and_optimizers_with_tests/' + str(ll) +'_' +str(op)\n",
    "        print('logs save in:', log_dir)\n",
    "\n",
    "        work_text = str(ll) + ' &&& ' +str(op)\n",
    "        work_time = datetime.now().strftime(\"%Y%m%d-%H%M%S\")\n",
    "        work_config = '40batch_sizes /// 100epochs /// accuracy'\n",
    "        dataset_config = 'train:' + str(x_train.shape) + ';;; test:' + str(x_test.shape)\n",
    "        fw =  tf.summary.create_file_writer(log_dir)\n",
    "        with fw.as_default():\n",
    "            tf.summary.text(\"Test Title\", work_text, step=0)\n",
    "            tf.summary.text(\"Time\", work_time, step=0)\n",
    "            tf.summary.text(\"Config\", work_config, step=0)\n",
    "            tf.summary.text(\"Datasets_config\", dataset_config, step=0)\n",
    "\n",
    "        ae.compile(optimizer=op, loss=ll, metrics=['accuracy'])\n",
    "        ae.fit(x_train, x_train, epochs=100, batch_size=40, shuffle=True, verbose=1,validation_data=(x_test, x_test), callbacks=[TensorBoard(log_dir=log_dir)])"
   ]
  }
 ],
 "metadata": {
  "kernelspec": {
   "display_name": "Python 3.8.10 64-bit",
   "language": "python",
   "name": "python3"
  },
  "language_info": {
   "codemirror_mode": {
    "name": "ipython",
    "version": 3
   },
   "file_extension": ".py",
   "mimetype": "text/x-python",
   "name": "python",
   "nbconvert_exporter": "python",
   "pygments_lexer": "ipython3",
   "version": "3.8.10"
  },
  "orig_nbformat": 4,
  "vscode": {
   "interpreter": {
    "hash": "916dbcbb3f70747c44a77c7bcd40155683ae19c65e1c03b4aa3499c5328201f1"
   }
  }
 },
 "nbformat": 4,
 "nbformat_minor": 2
}
