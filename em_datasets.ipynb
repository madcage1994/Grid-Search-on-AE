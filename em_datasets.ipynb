{
 "cells": [
  {
   "cell_type": "code",
   "execution_count": null,
   "metadata": {},
   "outputs": [],
   "source": [
    "from keras.models import Model\n",
    "from keras.layers import Input\n",
    "from ae_model import encoder_vgg16, decoder1_vgg16, decoder2_vgg16, decoder3_vgg16, encoder1_vgg16\n",
    "\n",
    "input_shape = Input(shape=[224, 224, 3])\n",
    "ae = Model(input_shape, decoder1_vgg16(encoder_vgg16(input_shape)))"
   ]
  },
  {
   "cell_type": "code",
   "execution_count": 4,
   "metadata": {},
   "outputs": [
    {
     "name": "stderr",
     "output_type": "stream",
     "text": [
      "100%|██████████| 435/435 [00:02<00:00, 166.43it/s]\n",
      "100%|██████████| 30/30 [00:00<00:00, 163.56it/s]\n"
     ]
    },
    {
     "name": "stdout",
     "output_type": "stream",
     "text": [
      "(435, 224, 224, 3)\n",
      "(30, 224, 224, 3)\n"
     ]
    }
   ],
   "source": [
    "import os\n",
    "import cv2\n",
    "import numpy as np\n",
    "from tqdm import tqdm\n",
    "from keras.preprocessing.image import img_to_array, load_img\n",
    "\n",
    "datasets = []\n",
    "tests = []\n",
    "path = './grid-search/dataset-emps/images/'\n",
    "test_path = './grid-search/dataset-emps/test_data/img/'\n",
    "\n",
    "files = os.listdir(path)\n",
    "test_files = os.listdir(test_path)\n",
    "\n",
    "\n",
    "for i in tqdm(files):\n",
    "    img = load_img(path+i, target_size=(224, 224))\n",
    "    datasets.append(img_to_array(img))\n",
    "\n",
    "for i in tqdm(test_files):\n",
    "    img = load_img(test_path+i, target_size=(224, 224))\n",
    "    tests.append(img_to_array(img))\n",
    "\n",
    "data_array = np.reshape(datasets, (len(datasets), 224, 224, 3))\n",
    "data_array = data_array.astype('float32') / 255.\n",
    "\n",
    "test_array = np.reshape(tests, (len(tests), 224, 224, 3))\n",
    "test_array = test_array.astype('float32') / 255.\n",
    "\n",
    "\n",
    "print(data_array.shape)\n",
    "print(test_array.shape)"
   ]
  },
  {
   "cell_type": "code",
   "execution_count": null,
   "metadata": {},
   "outputs": [],
   "source": [
    "from keras.callbacks import TensorBoard\n",
    "import tensorflow as tf\n",
    "from datetime import datetime\n",
    "\n",
    "tf.random.set_seed(44)\n",
    "\n",
    "log_dir = './grid-search/logs/dataset_emps/train_all_imgs_' + datetime.now().strftime(\"%Y%m%d-%H%M%S\") \n",
    "\n",
    "r = 'adam_mse_40_100ep'\n",
    "\n",
    "fw =  tf.summary.create_file_writer(log_dir)\n",
    "with fw.as_default():\n",
    "    tf.summary.text(\"record\", r, step=0)\n",
    "\n",
    "ae.compile(optimizer='adam', loss='mse')\n",
    "\n",
    "rr = ae.fit(data_array, data_array, batch_size=40, epochs=100, verbose=1, validation_data=(test_array, test_array), callbacks=[TensorBoard(log_dir=log_dir)])\n",
    "\n",
    "ae.save('./grid-search/checkpoints/emps_models')\n",
    "\n",
    "ae.save('./grid-search/checkpoints/h5_files/emps.h5')"
   ]
  },
  {
   "cell_type": "markdown",
   "metadata": {},
   "source": []
  },
  {
   "cell_type": "markdown",
   "metadata": {},
   "source": []
  },
  {
   "cell_type": "code",
   "execution_count": null,
   "metadata": {},
   "outputs": [],
   "source": [
    "from PIL import Image\n",
    "\n",
    "img = cv2.imread('./grid-search/dataset-emps/images/5a25d179cc.png')\n",
    "img = cv2.cvtColor(img, cv2.COLOR_BGR2RGB)\n",
    "img = cv2.resize(img, (244, 244)) / 255.\n",
    "\n",
    "\n",
    "maps = Image.open('./grid-search/dataset-emps/segmaps/5a25d179cc.png')\n",
    "maps = np.array(maps).astype('uint8')\n",
    "maps[maps > 0] = 1\n",
    "maps = cv2.resize(maps, (224, 224)) / 255.\n",
    "maps = np.expand_dims(maps, axis= -1).astype('float32')\n"
   ]
  },
  {
   "cell_type": "code",
   "execution_count": null,
   "metadata": {},
   "outputs": [],
   "source": [
    "import matplotlib.pyplot as plt\n",
    "\n",
    "fig, ax = plt.subplots(1,2, figsize = (15,10))\n",
    "ax[0].imshow(img)\n",
    "ax[1].imshow(np.squeeze(maps), cmap = 'gray')\n",
    "\n",
    "plt.show()"
   ]
  },
  {
   "cell_type": "code",
   "execution_count": 3,
   "metadata": {},
   "outputs": [
    {
     "name": "stderr",
     "output_type": "stream",
     "text": [
      "100%|██████████| 435/435 [00:05<00:00, 83.96it/s]\n"
     ]
    }
   ],
   "source": [
    "import pandas as pd\n",
    "from PIL import Image\n",
    "import cv2\n",
    "from tqdm import tqdm\n",
    "import numpy as np\n",
    "\n",
    "\n",
    "path = './grid-search/dataset-emps/images/'\n",
    "map_path = './grid-search/dataset-emps/segmaps/'\n",
    "files = os.listdir(path)\n",
    "\n",
    "img_data = []\n",
    "map_data = []\n",
    "\n",
    "for i in tqdm(range(len(files))):\n",
    "    img = cv2.imread(path + files[i])\n",
    "    img = cv2.cvtColor(img, cv2.COLOR_BGR2RGB)\n",
    "    img = cv2.resize(img, (244, 244)) / 255.\n",
    "\n",
    "    maps = Image.open(map_path + files[i])\n",
    "    maps = np.array(maps).astype('uint8')\n",
    "    maps[maps > 0] = 1\n",
    "    maps = cv2.resize(maps, (224, 224)) / 255.\n",
    "    maps = np.expand_dims(maps, axis= -1).astype('float32')\n",
    "\n",
    "    img_data.append(img)\n",
    "    map_data.append(maps)\n",
    "\n",
    "\n"
   ]
  },
  {
   "cell_type": "code",
   "execution_count": 6,
   "metadata": {},
   "outputs": [],
   "source": [
    "img_data = np.array(img_data)\n",
    "map_data = np.array(map_data)"
   ]
  },
  {
   "cell_type": "code",
   "execution_count": null,
   "metadata": {},
   "outputs": [],
   "source": [
    "import matplotlib.pyplot as plt\n",
    "\n",
    "fig, ax = plt.subplots(1,2, figsize = (15,10))\n",
    "ax[0].imshow(img_data[33])\n",
    "ax[1].imshow(np.squeeze(map_data[33]), cmap = 'gray')\n",
    "\n",
    "plt.show()"
   ]
  },
  {
   "cell_type": "code",
   "execution_count": 9,
   "metadata": {},
   "outputs": [],
   "source": [
    "np.save('./grid-search/dataset-emps/npy/full_img_data.npy', img_data)\n",
    "np.save('./grid-search/dataset-emps/npy/full_map_data.npy', map_data)"
   ]
  },
  {
   "cell_type": "code",
   "execution_count": 10,
   "metadata": {},
   "outputs": [],
   "source": [
    "from sklearn.model_selection import train_test_split\n",
    "\n",
    "x_train, x_test, y_train, y_test = train_test_split(img_data, map_data, test_size=0.2, random_state=44)\n",
    " "
   ]
  },
  {
   "cell_type": "code",
   "execution_count": null,
   "metadata": {},
   "outputs": [],
   "source": [
    "import matplotlib.pyplot as plt\n",
    "\n",
    "fig, ax = plt.subplots(1,2, figsize = (15,10))\n",
    "ax[0].imshow(x_train[11])\n",
    "ax[1].imshow(np.squeeze(y_train[11]), cmap = 'gray')\n",
    "\n",
    "plt.show()"
   ]
  },
  {
   "cell_type": "code",
   "execution_count": 14,
   "metadata": {},
   "outputs": [],
   "source": [
    "np.save('./grid-search/dataset-emps/npy/spilt_80train_20test/x_train.npy', x_train)\n",
    "np.save('./grid-search/dataset-emps/npy/spilt_80train_20test/y_train.npy', y_train)\n",
    "np.save('./grid-search/dataset-emps/npy/spilt_80train_20test/x_test.npy', x_test)\n",
    "np.save('./grid-search/dataset-emps/npy/spilt_80train_20test/y_test.npy', y_test)"
   ]
  },
  {
   "cell_type": "markdown",
   "metadata": {},
   "source": [
    "固定测试集  \n",
    "按比例(20%-100%) 送入训练集    \n"
   ]
  },
  {
   "cell_type": "code",
   "execution_count": 1,
   "metadata": {},
   "outputs": [],
   "source": [
    "import numpy as np\n",
    "\n",
    "sp1 = np.load('./grid-search/dataset-emps/npy/spilt_80train_20test/x_train.npy')\n",
    "sp2 = np.load('./grid-search/dataset-emps/npy/spilt_80train_20test/y_train.npy')"
   ]
  },
  {
   "cell_type": "code",
   "execution_count": 3,
   "metadata": {},
   "outputs": [
    {
     "name": "stdout",
     "output_type": "stream",
     "text": [
      "./grid-search/dataset-emps/npy/spilt_80train_20test/sp/x_train_0.1_ss.npy\n",
      "(34, 244, 244, 3)\n",
      "./grid-search/dataset-emps/npy/spilt_80train_20test/sp/y_train_0.1_ss.npy\n",
      "(34, 224, 224, 1)\n",
      "./grid-search/dataset-emps/npy/spilt_80train_20test/sp/x_train_0.2_ss.npy\n",
      "(69, 244, 244, 3)\n",
      "./grid-search/dataset-emps/npy/spilt_80train_20test/sp/y_train_0.2_ss.npy\n",
      "(69, 224, 224, 1)\n",
      "./grid-search/dataset-emps/npy/spilt_80train_20test/sp/x_train_0.3_ss.npy\n",
      "(104, 244, 244, 3)\n",
      "./grid-search/dataset-emps/npy/spilt_80train_20test/sp/y_train_0.3_ss.npy\n",
      "(104, 224, 224, 1)\n",
      "./grid-search/dataset-emps/npy/spilt_80train_20test/sp/x_train_0.4_ss.npy\n",
      "(139, 244, 244, 3)\n",
      "./grid-search/dataset-emps/npy/spilt_80train_20test/sp/y_train_0.4_ss.npy\n",
      "(139, 224, 224, 1)\n",
      "./grid-search/dataset-emps/npy/spilt_80train_20test/sp/x_train_0.5_ss.npy\n",
      "(174, 244, 244, 3)\n",
      "./grid-search/dataset-emps/npy/spilt_80train_20test/sp/y_train_0.5_ss.npy\n",
      "(174, 224, 224, 1)\n",
      "./grid-search/dataset-emps/npy/spilt_80train_20test/sp/x_train_0.6_ss.npy\n",
      "(208, 244, 244, 3)\n",
      "./grid-search/dataset-emps/npy/spilt_80train_20test/sp/y_train_0.6_ss.npy\n",
      "(208, 224, 224, 1)\n",
      "./grid-search/dataset-emps/npy/spilt_80train_20test/sp/x_train_0.7_ss.npy\n",
      "(243, 244, 244, 3)\n",
      "./grid-search/dataset-emps/npy/spilt_80train_20test/sp/y_train_0.7_ss.npy\n",
      "(243, 224, 224, 1)\n",
      "./grid-search/dataset-emps/npy/spilt_80train_20test/sp/x_train_0.8_ss.npy\n",
      "(278, 244, 244, 3)\n",
      "./grid-search/dataset-emps/npy/spilt_80train_20test/sp/y_train_0.8_ss.npy\n",
      "(278, 224, 224, 1)\n",
      "./grid-search/dataset-emps/npy/spilt_80train_20test/sp/x_train_0.9_ss.npy\n",
      "(313, 244, 244, 3)\n",
      "./grid-search/dataset-emps/npy/spilt_80train_20test/sp/y_train_0.9_ss.npy\n",
      "(313, 224, 224, 1)\n"
     ]
    }
   ],
   "source": [
    "from sklearn.model_selection import train_test_split\n",
    "\n",
    "perc = [0.1, 0.2, 0.3, 0.4, 0.5, 0.6, 0.7, 0.8, 0.9]\n",
    "\n",
    "for i in perc:\n",
    "    x_train, x_test, y_train, y_test = train_test_split(sp1, sp2, train_size=i, random_state=44)\n",
    "\n",
    "    name1 = './grid-search/dataset-emps/npy/spilt_80train_20test/sp/x_train_' + str(i) + '_ss.npy'\n",
    "    name2 = './grid-search/dataset-emps/npy/spilt_80train_20test/sp/y_train_' + str(i) + '_ss.npy'\n",
    "\n",
    "    print(name1)\n",
    "    print(x_train.shape)\n",
    "    print(name2)\n",
    "    print(y_train.shape)\n",
    "\n",
    "    np.save(name1, x_train)\n",
    "    np.save(name2, y_train)"
   ]
  }
 ],
 "metadata": {
  "kernelspec": {
   "display_name": "Python 3.8.10 64-bit",
   "language": "python",
   "name": "python3"
  },
  "language_info": {
   "codemirror_mode": {
    "name": "ipython",
    "version": 3
   },
   "file_extension": ".py",
   "mimetype": "text/x-python",
   "name": "python",
   "nbconvert_exporter": "python",
   "pygments_lexer": "ipython3",
   "version": "3.8.10"
  },
  "orig_nbformat": 4,
  "vscode": {
   "interpreter": {
    "hash": "916dbcbb3f70747c44a77c7bcd40155683ae19c65e1c03b4aa3499c5328201f1"
   }
  }
 },
 "nbformat": 4,
 "nbformat_minor": 2
}
