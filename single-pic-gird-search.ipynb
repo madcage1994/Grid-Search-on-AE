{
 "cells": [
  {
   "cell_type": "code",
   "execution_count": null,
   "metadata": {},
   "outputs": [],
   "source": [
    "from keras.models import Model\n",
    "from keras.layers import Input\n",
    "from ae_model import encoder_vgg16, decoder1_vgg16, decoder2_vgg16, decoder3_vgg16, encoder1_vgg16\n",
    "\n",
    "input_shape = Input(shape=[256, 192, 3])\n",
    "ae = Model(input_shape, decoder1_vgg16(encoder_vgg16(input_shape)))\n",
    "# ae.summary()"
   ]
  },
  {
   "cell_type": "code",
   "execution_count": 4,
   "metadata": {},
   "outputs": [
    {
     "name": "stderr",
     "output_type": "stream",
     "text": [
      "100%|██████████| 366/366 [00:00<00:00, 882.97it/s]"
     ]
    },
    {
     "name": "stdout",
     "output_type": "stream",
     "text": [
      "(256, 192)\n",
      "(366, 256, 192, 3)\n",
      "(366, 147456)\n"
     ]
    },
    {
     "name": "stderr",
     "output_type": "stream",
     "text": [
      "\n"
     ]
    }
   ],
   "source": [
    "# from json import load\n",
    "# import numpy as np\n",
    "# from keras.preprocessing.image import img_to_array, load_img\n",
    "# img_path = './grid-search/dataset-bc/JPEGImages/BloodImage_00000.jpg'\n",
    "\n",
    "# img_data = []\n",
    "\n",
    "# img_data.append(img_to_array(load_img(img_path, target_size=(192, 256))))\n",
    "\n",
    "# train_array = np.reshape(img_data, (len(img_data), 256, 192, 3))\n",
    "# train_array = train_array.astype('float32') / 255. \n",
    "\n",
    "# train_array_2d = np.reshape(train_array, (train_array.shape[0], -1))\n",
    "\n",
    "# print(train_array.shape)\n",
    "# print(train_array_2d.shape)\n",
    "\n",
    "import os\n",
    "import cv2\n",
    "import numpy as np\n",
    "from tqdm import tqdm\n",
    "from keras.preprocessing.image import img_to_array, load_img\n",
    "\n",
    "datasets = []\n",
    "path = './grid-search/dataset-bc/JPEGImages/'\n",
    "\n",
    "files = os.listdir(path)\n",
    "\n",
    "\n",
    "for i in tqdm(files):\n",
    "    img = load_img(path+i, target_size=(192, 256))\n",
    "    datasets.append(img_to_array(img))\n",
    "\n",
    "data_array = np.reshape(datasets, (len(datasets), 256, 192, 3))\n",
    "data_array = data_array.astype('float32') / 255.\n",
    "\n",
    "data_array_2d = np.reshape(data_array, (data_array.shape[0], -1)) #sklearn need 2d array\n",
    "\n",
    "print(img.size)\n",
    "print(data_array.shape)\n",
    "print(data_array_2d.shape)\n"
   ]
  },
  {
   "cell_type": "code",
   "execution_count": null,
   "metadata": {},
   "outputs": [],
   "source": [
    "import tensorflow as tf\n",
    "from sklearn.model_selection import GridSearchCV\n",
    "from scikeras.wrappers import KerasRegressor\n",
    "\n",
    "\n",
    "def create_model(m):\n",
    "    \n",
    "    m.compile(optimizer='adam', loss='mean_squared_error', metrics=['accuracy'])\n",
    "\n",
    "    return m\n",
    "\n",
    "tf.random.set_seed(7)\n",
    "\n",
    "grid = KerasRegressor(model=create_model(ae))\n",
    "\n",
    "grid_batch_size = [8, 16, 32]\n",
    "grid_epoch = [50, 100]\n",
    "\n",
    "param_grid = dict(batch_size = grid_batch_size, epochs = grid_epoch)\n",
    "\n",
    "grid_cv = GridSearchCV(estimator=grid, param_grid=param_grid, verbose=2)\n",
    "\n",
    "grid_cv.fit(data_array, data_array_2d)\n"
   ]
  },
  {
   "cell_type": "code",
   "execution_count": null,
   "metadata": {},
   "outputs": [],
   "source": [
    "print(\"Best: %f using %s\" % (grid_cv.best_score_, grid_cv.best_params_))\n",
    "means = grid_cv.cv_results_['mean_test_score']\n",
    "stds = grid_cv.cv_results_['std_test_score']\n",
    "params = grid_cv.cv_results_['params']\n",
    "for mean, stdev, param in zip(means, stds, params):\n",
    "    print(\"%f (%f) with: %r\" % (mean, stdev, param))"
   ]
  }
 ],
 "metadata": {
  "kernelspec": {
   "display_name": "Python 3.8.10 64-bit",
   "language": "python",
   "name": "python3"
  },
  "language_info": {
   "codemirror_mode": {
    "name": "ipython",
    "version": 3
   },
   "file_extension": ".py",
   "mimetype": "text/x-python",
   "name": "python",
   "nbconvert_exporter": "python",
   "pygments_lexer": "ipython3",
   "version": "3.8.10"
  },
  "orig_nbformat": 4,
  "vscode": {
   "interpreter": {
    "hash": "916dbcbb3f70747c44a77c7bcd40155683ae19c65e1c03b4aa3499c5328201f1"
   }
  }
 },
 "nbformat": 4,
 "nbformat_minor": 2
}
