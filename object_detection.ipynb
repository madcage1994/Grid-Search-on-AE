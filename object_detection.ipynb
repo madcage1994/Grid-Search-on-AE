{
 "cells": [
  {
   "cell_type": "markdown",
   "metadata": {},
   "source": [
    "## Fllow Plan - OBJECT DETECTION\n"
   ]
  },
  {
   "cell_type": "markdown",
   "metadata": {},
   "source": [
    "### Different type of object detection\n",
    "\n",
    "1. one stage detector(method)  \n",
    "2. two stage detector(method)   \n",
    "3. transformer detector(method)   "
   ]
  },
  {
   "cell_type": "markdown",
   "metadata": {},
   "source": [
    "### Representative Networks"
   ]
  },
  {
   "cell_type": "markdown",
   "metadata": {},
   "source": [
    "`Two stage`: R-CNN / Fast-R-CNN / `Faster-R-CNN`(and variant) / `Mask-R-CNN`   --->>>High accuracy, slow detection speed    \n",
    "`One stage`: `YOLO-series` / SDD / RetinaNet     ----> Real-Time , lower accuracy than two stage     \n",
    "`transformer`: `DETR`  ----> Brand new / based on Transformer   "
   ]
  },
  {
   "cell_type": "markdown",
   "metadata": {},
   "source": [
    "### Faster-R-CNN / Mask-R-CNN\n",
    "\n",
    "ResNet50/101 ResNeXt101 FPN  VGG16     \n",
    "\n",
    "Faster-R-CNN     \n",
    "![Faster-R-CNN](./mdimg/2.png 'Faster-R-CNN')  \n",
    "\n",
    "Mask-R-CNN   \n",
    "![Mask-R-CNN](./mdimg/1.png 'Mask-R-CNN')"
   ]
  },
  {
   "cell_type": "markdown",
   "metadata": {},
   "source": [
    "### YOLO-Series\n",
    "\n",
    "`yoloV3` or `yoloV4` or `yoloV5`   \n",
    "\n",
    "`yoloV3`:Darknet53   \n",
    "`yoloV4`:CSP-Darknet53   \n",
    "`yoloV5`: Focus structure in Backbone   "
   ]
  },
  {
   "cell_type": "markdown",
   "metadata": {},
   "source": [
    "### End-to-End Object Detection with Transformers(DETR)\n",
    "\n",
    "https://arxiv.org/abs/2005.12872   \n",
    "\n",
    "\n",
    "![3](./mdimg/3.png)   \n",
    "![5](./mdimg/5.png)"
   ]
  },
  {
   "cell_type": "markdown",
   "metadata": {},
   "source": [
    "Dataset: BCCD \n",
    "\n",
    "robotflow provide many Formats \n",
    "\n",
    "Easy to training with pretrained model"
   ]
  },
  {
   "cell_type": "markdown",
   "metadata": {},
   "source": [
    "1.Choose the simpler version   (help for tune hyperparameters)    \n",
    "2.Keep Pretrained Model form same Dataset   \n",
    "3.Use same dataset format (Uniform Evaluation Standard)    "
   ]
  },
  {
   "cell_type": "markdown",
   "metadata": {},
   "source": [
    "### GridSearchCV ???\n",
    "\n",
    "![111](./mdimg/4.png)"
   ]
  },
  {
   "cell_type": "markdown",
   "metadata": {},
   "source": [
    "For Next Week:   \n",
    "1.Train BCCD on them and compare reuslts...  "
   ]
  }
 ],
 "metadata": {
  "kernelspec": {
   "display_name": "Python 3.8.10 64-bit",
   "language": "python",
   "name": "python3"
  },
  "language_info": {
   "name": "python",
   "version": "3.8.10"
  },
  "orig_nbformat": 4,
  "vscode": {
   "interpreter": {
    "hash": "916dbcbb3f70747c44a77c7bcd40155683ae19c65e1c03b4aa3499c5328201f1"
   }
  }
 },
 "nbformat": 4,
 "nbformat_minor": 2
}
